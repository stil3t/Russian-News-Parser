{
 "cells": [
  {
   "cell_type": "code",
   "execution_count": 1,
   "metadata": {},
   "outputs": [],
   "source": [
    "from dotenv import load_dotenv\n",
    "from os import getenv\n",
    "\n",
    "from uuid import uuid4\n",
    "\n",
    "load_dotenv()\n",
    "GIGIAKEY = getenv('GIGIAKEY')\n",
    "\n",
    "from gigachat import GigaChat\n"
   ]
  },
  {
   "cell_type": "code",
   "execution_count": 2,
   "metadata": {},
   "outputs": [],
   "source": [
    "from parsers.prime import PrimeParser\n",
    "from parsers.rbc import RBCParser\n",
    "\n",
    "from parsers.utils import news_df_to_txt, build_query"
   ]
  },
  {
   "cell_type": "code",
   "execution_count": 3,
   "metadata": {},
   "outputs": [
    {
     "name": "stdout",
     "output_type": "stream",
     "text": [
      "Оцени новостной фон для компании МосБиржа и скажи, стоит ли покупать акции этой компании. Твой ответ должен быть краток. Новости:\n",
      "Новость от 11.02.2024: : Мосбиржа к 1 марта технически подготовится к старту торгов в выходные\n",
      "Новость от 13.02.2024: : Мосбиржа приостановила торги на фондовом рынке\n",
      "Новость от 13.02.2024: : Мосбиржа сделала заявление о вечерних торгах на фондовом рынке\n",
      "Новость от 13.02.2024: : Эксперт оценил последствия остановки вечерних торгов на Мосбирже\n",
      "Новость от 28.01.2024: : Мосбиржа рассказала, когда планирует начать торги в выходные\n",
      "Новость от 04.02.2024: : Мосбиржа отчиталась о сокращении объема торгов\n",
      "Новость от 13.02.2024: : Мосбиржа повысила границу ценового коридора дорожающих акций \"Газпрома\"\n",
      "Новость от 13.02.2024: : Мосбиржа зафиксировала рекордные за три года объемы торгов акциями\n",
      "Новость от 14.02.2024: : Мосбиржа проводит дискретный аукцион по ценным бумагам \"СПБ биржи\"\n",
      "Новость от 24.01.2024: : Мосбиржа повысила границу ценового коридора дорожающих акций \"Распадской\"\n",
      "Новость от 14.02.2024: : Мосбиржа повысила границу ценового коридора дорожающих акций ПИКа\n",
      "Новость от 13.02.2024: : Мосбиржа повысила границу ценового коридора сильно дорожающих акций ММК\n",
      "Новость от 22.01.2024: : Мосбиржа возобновит торги фьючерсами на акции \"Икс 5\"\n",
      "Новость от 13.02.2024: : Мосбиржа повысила границу ценового коридора акций Сбербанка\n",
      "Новость от 27.01.2024: : Мосбиржа возобновляет утренние торги на фондовом и срочном рынках\n",
      "Новость от 27.01.2024: : Благоприятная конфигурация\n",
      "Новость от 17.01.2024: : Индексы в плюсе с начала года\n",
      "Новость от 03.02.2024: : В ожидании импульса\n",
      "Новость от 30.01.2024: : Российский рынок акций повысился на 0,57% за основную сессию\n",
      "Новость от 11.02.2024: : 3000 — есть!\n"
     ]
    }
   ],
   "source": [
    "parser = PrimeParser()\n",
    "\n",
    "query = build_query('МосБиржа', parser)\n",
    "\n",
    "print(query)"
   ]
  },
  {
   "cell_type": "code",
   "execution_count": 4,
   "metadata": {},
   "outputs": [
    {
     "name": "stdout",
     "output_type": "stream",
     "text": [
      "Новостной фон для компании «МосБиржа» характеризуется высокой активностью торгов и значительными колебаниями ценных бумаг. Из новостей можно выделить несколько ключевых моментов:\n",
      "\n",
      "- Рост объемов торгов до рекордных значений за последние три года.\n",
      "- Повышение границ ценовых коридоров для различных акций, что может свидетельствовать об увеличении волатильности рынка.\n",
      "- Возобновление и изменение условий торгов (в том числе начало торгов в выходные).\n",
      "\n",
      "Такая динамика указывает на высокую активность и нестабильность рынка, что может представлять как риски, так и возможности для инвесторов. Общий контекст новостей скорее нейтральный для принятия решения о покупке акций «МосБиржи».\n"
     ]
    }
   ],
   "source": [
    "with GigaChat(credentials=GIGIAKEY, verify_ssl_certs=False) as giga:\n",
    "    response = giga.chat(query)\n",
    "    response = response.choices[0].message.content\n",
    "    \n",
    "print(response)"
   ]
  },
  {
   "cell_type": "code",
   "execution_count": 12,
   "metadata": {},
   "outputs": [
    {
     "name": "stdout",
     "output_type": "stream",
     "text": [
      "GigaChat:  Новостной фон нейтральный. Отсутствие значимых негативных новостей о компании или секторе.\n"
     ]
    }
   ],
   "source": [
    "\"\"\"Пример обращения к GigaChat с помощью GigaChain\"\"\"\n",
    "from langchain_core.messages import HumanMessage, SystemMessage\n",
    "from langchain_gigachat.chat_models import GigaChat\n",
    "\n",
    "# Авторизация в GigaChat\n",
    "model = GigaChat(\n",
    "    credentials=KEY,\n",
    "    scope=\"GIGACHAT_API_PERS\",\n",
    "    model=\"GigaChat\",\n",
    "    verify_ssl_certs=False,\n",
    ")\n",
    "\n",
    "messages = [\n",
    "    SystemMessage(\n",
    "        content=\"Оцени новостной фон для МТС Банка и скажи, стоит ли покупать акции этой компании. Твой ответ должен быть краток\"\n",
    "    )\n",
    "]\n",
    "    \n",
    "messages.append(HumanMessage(content=news))\n",
    "res = model.invoke(messages)\n",
    "messages.append(res)\n",
    "print(\"GigaChat: \", res.content)"
   ]
  },
  {
   "cell_type": "code",
   "execution_count": null,
   "metadata": {},
   "outputs": [],
   "source": []
  }
 ],
 "metadata": {
  "kernelspec": {
   "display_name": "Python 3",
   "language": "python",
   "name": "python3"
  },
  "language_info": {
   "codemirror_mode": {
    "name": "ipython",
    "version": 3
   },
   "file_extension": ".py",
   "mimetype": "text/x-python",
   "name": "python",
   "nbconvert_exporter": "python",
   "pygments_lexer": "ipython3",
   "version": "3.12.2"
  }
 },
 "nbformat": 4,
 "nbformat_minor": 2
}
